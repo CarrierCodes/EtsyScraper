{
 "metadata": {
  "language_info": {
   "codemirror_mode": {
    "name": "ipython",
    "version": 3
   },
   "file_extension": ".py",
   "mimetype": "text/x-python",
   "name": "python",
   "nbconvert_exporter": "python",
   "pygments_lexer": "ipython3",
   "version": "3.9.4"
  },
  "orig_nbformat": 2,
  "kernelspec": {
   "name": "python394jvsc74a57bd0aee8b7b246df8f9039afb4144a1f6fd8d2ca17a180786b69acc140d282b71a49",
   "display_name": "Python 3.9.4 64-bit"
  },
  "metadata": {
   "interpreter": {
    "hash": "aee8b7b246df8f9039afb4144a1f6fd8d2ca17a180786b69acc140d282b71a49"
   }
  }
 },
 "nbformat": 4,
 "nbformat_minor": 2,
 "cells": [
  {
   "cell_type": "code",
   "execution_count": 2,
   "metadata": {},
   "outputs": [
    {
     "output_type": "stream",
     "name": "stdout",
     "text": [
      "We can crawl etsy? True\n"
     ]
    }
   ],
   "source": [
    "# from https://github.com/schlende/practical-pandas-projects/blob/master/notebooks/etsy-listing-dataset.ipynb\n",
    "import urllib.robotparser\n",
    "\n",
    "rp = urllib.robotparser.RobotFileParser()\n",
    "rp.set_url(\"https://www.etsy.com/robots.txt\")\n",
    "rp.read()\n",
    "rp.crawl_delay(\"*\")\n",
    "\n",
    "test_crawl_url = \"https://www.etsy.com/listing/478395857/big-little-shirt-big-little-sorority\"\n",
    "\n",
    "can_crawl_listings = rp.can_fetch(\"*\", test_crawl_url)\n",
    "print(\"We can crawl etsy? {0}\".format(can_crawl_listings))"
   ]
  },
  {
   "cell_type": "code",
   "execution_count": 2,
   "metadata": {},
   "outputs": [
    {
     "output_type": "stream",
     "name": "stdout",
     "text": [
      "                                                link\n0  https://www.etsy.com/listing/676104310/large-w...\n1  https://www.etsy.com/listing/524683935/geometr...\n2  https://www.etsy.com/listing/694059805/large-w...\n3  https://www.etsy.com/listing/515464712/harness...\n4  https://www.etsy.com/listing/758532327/large-h...\n5  https://www.etsy.com/listing/524683935/geometr...\n6  https://www.etsy.com/listing/853278514/large-h...\n7  https://www.etsy.com/listing/740770894/large-h...\n8  https://www.etsy.com/listing/740748924/large-h...\n9  https://www.etsy.com/listing/740770894/large-h...\n"
     ]
    }
   ],
   "source": [
    "import pandas as pd\n",
    "# TODO: Read Etsy Data csv\n"
   ]
  },
  {
   "cell_type": "code",
   "execution_count": null,
   "metadata": {},
   "outputs": [],
   "source": []
  }
 ]
}